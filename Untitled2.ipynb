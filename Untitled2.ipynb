{
  "cells": [
    {
      "cell_type": "markdown",
      "metadata": {
        "id": "view-in-github",
        "colab_type": "text"
      },
      "source": [
        "<a href=\"https://colab.research.google.com/github/Kakunare/CREED/blob/main/Untitled2.ipynb\" target=\"_parent\"><img src=\"https://colab.research.google.com/assets/colab-badge.svg\" alt=\"Open In Colab\"/></a>"
      ]
    },
    {
      "cell_type": "code",
      "execution_count": null,
      "metadata": {
        "colab": {
          "background_save": true
        },
        "id": "ZcD4x7LG8PT6",
        "outputId": "19653cbf-b424-4cdf-fb69-4eb4b4553d8d"
      },
      "outputs": [
        {
          "name": "stdout",
          "output_type": "stream",
          "text": [
            "Mounted at /content/drive\n"
          ]
        }
      ],
      "source": [
        "from google.colab import drive\n",
        "drive.mount('/content/drive')"
      ]
    },
    {
      "cell_type": "code",
      "execution_count": 2,
      "metadata": {
        "id": "KzLA7eb68nS2",
        "colab": {
          "base_uri": "https://localhost:8080/",
          "height": 53
        },
        "outputId": "5b80eb2f-9093-45c4-a4e6-dcc40ffc0a50"
      },
      "outputs": [
        {
          "output_type": "stream",
          "name": "stdout",
          "text": [
            "/content/drive/MyDrive/workspace\n"
          ]
        },
        {
          "output_type": "execute_result",
          "data": {
            "text/plain": [
              "'/content/drive/MyDrive/workspace'"
            ],
            "application/vnd.google.colaboratory.intrinsic+json": {
              "type": "string"
            }
          },
          "metadata": {},
          "execution_count": 2
        }
      ],
      "source": [
        "%cd /content/drive/MyDrive/workspace/\n",
        "%pwd"
      ]
    },
    {
      "cell_type": "code",
      "source": [
        "!apt install rustc cargo"
      ],
      "metadata": {
        "colab": {
          "base_uri": "https://localhost:8080/"
        },
        "id": "eVWtTKD_9MQs",
        "outputId": "118646af-2cea-4687-8ca3-584e8400b2f3"
      },
      "execution_count": 3,
      "outputs": [
        {
          "output_type": "stream",
          "name": "stdout",
          "text": [
            "Reading package lists... Done\n",
            "Building dependency tree... Done\n",
            "Reading state information... Done\n",
            "The following additional packages will be installed:\n",
            "  libstd-rust-1.70 libstd-rust-dev\n",
            "Suggested packages:\n",
            "  cargo-doc llvm-16 lld-16 clang-16\n",
            "The following NEW packages will be installed:\n",
            "  cargo libstd-rust-1.70 libstd-rust-dev rustc\n",
            "0 upgraded, 4 newly installed, 0 to remove and 15 not upgraded.\n",
            "Need to get 97.6 MB of archives.\n",
            "After this operation, 395 MB of additional disk space will be used.\n",
            "Get:1 http://archive.ubuntu.com/ubuntu jammy-updates/main amd64 libstd-rust-1.70 amd64 1.70.0+dfsg0ubuntu1~bpo2-0ubuntu0.22.04.2 [46.6 MB]\n",
            "Get:2 http://archive.ubuntu.com/ubuntu jammy-updates/main amd64 libstd-rust-dev amd64 1.70.0+dfsg0ubuntu1~bpo2-0ubuntu0.22.04.2 [42.3 MB]\n",
            "Get:3 http://archive.ubuntu.com/ubuntu jammy-updates/main amd64 rustc amd64 1.70.0+dfsg0ubuntu1~bpo2-0ubuntu0.22.04.2 [3,266 kB]\n",
            "Get:4 http://archive.ubuntu.com/ubuntu jammy-updates/universe amd64 cargo amd64 1.70.0+dfsg0ubuntu1~bpo2-0ubuntu0.22.04.2 [5,387 kB]\n",
            "Fetched 97.6 MB in 1s (83.0 MB/s)\n",
            "Selecting previously unselected package libstd-rust-1.70:amd64.\n",
            "(Reading database ... 120899 files and directories currently installed.)\n",
            "Preparing to unpack .../libstd-rust-1.70_1.70.0+dfsg0ubuntu1~bpo2-0ubuntu0.22.04.2_amd64.deb ...\n",
            "Unpacking libstd-rust-1.70:amd64 (1.70.0+dfsg0ubuntu1~bpo2-0ubuntu0.22.04.2) ...\n",
            "Selecting previously unselected package libstd-rust-dev:amd64.\n",
            "Preparing to unpack .../libstd-rust-dev_1.70.0+dfsg0ubuntu1~bpo2-0ubuntu0.22.04.2_amd64.deb ...\n",
            "Unpacking libstd-rust-dev:amd64 (1.70.0+dfsg0ubuntu1~bpo2-0ubuntu0.22.04.2) ...\n",
            "Selecting previously unselected package rustc.\n",
            "Preparing to unpack .../rustc_1.70.0+dfsg0ubuntu1~bpo2-0ubuntu0.22.04.2_amd64.deb ...\n",
            "Unpacking rustc (1.70.0+dfsg0ubuntu1~bpo2-0ubuntu0.22.04.2) ...\n",
            "Selecting previously unselected package cargo.\n",
            "Preparing to unpack .../cargo_1.70.0+dfsg0ubuntu1~bpo2-0ubuntu0.22.04.2_amd64.deb ...\n",
            "Unpacking cargo (1.70.0+dfsg0ubuntu1~bpo2-0ubuntu0.22.04.2) ...\n",
            "Setting up libstd-rust-1.70:amd64 (1.70.0+dfsg0ubuntu1~bpo2-0ubuntu0.22.04.2) ...\n",
            "Setting up libstd-rust-dev:amd64 (1.70.0+dfsg0ubuntu1~bpo2-0ubuntu0.22.04.2) ...\n",
            "Setting up rustc (1.70.0+dfsg0ubuntu1~bpo2-0ubuntu0.22.04.2) ...\n",
            "Setting up cargo (1.70.0+dfsg0ubuntu1~bpo2-0ubuntu0.22.04.2) ...\n",
            "Processing triggers for man-db (2.10.2-1) ...\n"
          ]
        }
      ]
    },
    {
      "cell_type": "code",
      "source": [
        "!git clone https://github.com/ingonyama-zk/icicle.git"
      ],
      "metadata": {
        "colab": {
          "base_uri": "https://localhost:8080/"
        },
        "id": "ETkFpXE89SLX",
        "outputId": "ac5ce07a-9a93-4146-bae0-d5ad86a516ff"
      },
      "execution_count": 4,
      "outputs": [
        {
          "output_type": "stream",
          "name": "stdout",
          "text": [
            "Cloning into 'icicle'...\n",
            "remote: Enumerating objects: 5326, done.\u001b[K\n",
            "remote: Counting objects: 100% (2086/2086), done.\u001b[K\n",
            "remote: Compressing objects: 100% (843/843), done.\u001b[K\n",
            "remote: Total 5326 (delta 1551), reused 1415 (delta 1199), pack-reused 3240\u001b[K\n",
            "Receiving objects: 100% (5326/5326), 42.44 MiB | 27.23 MiB/s, done.\n",
            "Resolving deltas: 100% (3239/3239), done.\n"
          ]
        }
      ]
    },
    {
      "cell_type": "code",
      "source": [
        "!ls -la"
      ],
      "metadata": {
        "colab": {
          "base_uri": "https://localhost:8080/"
        },
        "id": "lzSzzfqD9ZQI",
        "outputId": "94ad7f7a-d299-4bcd-e933-8393c2c904ff"
      },
      "execution_count": 5,
      "outputs": [
        {
          "output_type": "stream",
          "name": "stdout",
          "text": [
            "total 20\n",
            "drwxr-xr-x  1 root root 4096 Dec 10 19:06 .\n",
            "drwxr-xr-x  1 root root 4096 Dec 10 19:03 ..\n",
            "drwxr-xr-x  4 root root 4096 Dec  4 14:23 .config\n",
            "drwxr-xr-x 12 root root 4096 Dec 10 19:06 icicle\n",
            "drwxr-xr-x  1 root root 4096 Dec  4 14:27 sample_data\n"
          ]
        }
      ]
    },
    {
      "cell_type": "code",
      "source": [
        "%cd icicle/icicle"
      ],
      "metadata": {
        "colab": {
          "base_uri": "https://localhost:8080/"
        },
        "id": "-pY-1Jg79efs",
        "outputId": "237d69f1-b085-432c-8d9e-cd718fdd6fc2"
      },
      "execution_count": 6,
      "outputs": [
        {
          "output_type": "stream",
          "name": "stdout",
          "text": [
            "/content/icicle/icicle\n"
          ]
        }
      ]
    },
    {
      "cell_type": "code",
      "source": [
        "!mkdir -p build"
      ],
      "metadata": {
        "id": "fWcXRTn59k7y"
      },
      "execution_count": 7,
      "outputs": []
    },
    {
      "cell_type": "code",
      "source": [
        "!cmake -S . -B build"
      ],
      "metadata": {
        "colab": {
          "base_uri": "https://localhost:8080/"
        },
        "id": "olOKc1O29qAS",
        "outputId": "453d65f3-556f-4da1-a118-1439394bb9b1"
      },
      "execution_count": 7,
      "outputs": [
        {
          "output_type": "stream",
          "name": "stdout",
          "text": [
            "-- The CUDA compiler identification is NVIDIA 11.8.89\n",
            "-- The CXX compiler identification is GNU 11.4.0\n",
            "-- Detecting CUDA compiler ABI info\n",
            "-- Detecting CUDA compiler ABI info - done\n",
            "-- Check for working CUDA compiler: /usr/local/cuda/bin/nvcc - skipped\n",
            "-- Detecting CUDA compile features\n",
            "-- Detecting CUDA compile features - done\n",
            "-- Detecting CXX compiler ABI info\n",
            "-- Detecting CXX compiler ABI info - done\n",
            "-- Check for working CXX compiler: /usr/bin/c++ - skipped\n",
            "-- Detecting CXX compile features\n",
            "-- Detecting CXX compile features - done\n",
            "-- Configuring done (3.4s)\n",
            "-- Generating done (0.0s)\n",
            "-- Build files have been written to: /content/icicle/icicle/build\n"
          ]
        }
      ]
    },
    {
      "cell_type": "code",
      "source": [
        "!time cmake --build build"
      ],
      "metadata": {
        "colab": {
          "base_uri": "https://localhost:8080/"
        },
        "id": "-P9PZhkR936N",
        "outputId": "0db414ce-b82c-460a-ca13-02a803c369d1"
      },
      "execution_count": 8,
      "outputs": [
        {
          "output_type": "stream",
          "name": "stdout",
          "text": [
            "[  6%] \u001b[32mBuilding CUDA object CMakeFiles/icicle.dir/curves/bn254/lde.cu.o\u001b[0m\n",
            "\u001b[01m\u001b[0m\u001b[01m/content/icicle/icicle/curves/bn254/../../appUtils/ntt/ntt.cuh(379)\u001b[0m: \u001b[01;35mwarning\u001b[0m #177-D: variable \u001b[01m\"NUM_BLOCKS\"\u001b[0m was declared but never referenced\n",
            "\n",
            "[ 13%] \u001b[32mBuilding CUDA object CMakeFiles/icicle.dir/curves/bn254/msm.cu.o\u001b[0m\n",
            "\u001b[01m\u001b[0m\u001b[01m/content/icicle/icicle/curves/bn254/../../appUtils/msm/msm.cu(136)\u001b[0m: \u001b[01;35mwarning\u001b[0m #20050-D: inline qualifier ignored for \"\u001b[01m__global__\u001b[0m\" function\n",
            "\n",
            "\u001b[01m\u001b[0m\u001b[01m/content/icicle/icicle/curves/bn254/../../appUtils/msm/msm.cu(152)\u001b[0m: \u001b[01;35mwarning\u001b[0m #20050-D: inline qualifier ignored for \"\u001b[01m__global__\u001b[0m\" function\n",
            "\n",
            "\u001b[01m\u001b[0m\u001b[01m/content/icicle/icicle/curves/bn254/../../appUtils/msm/msm.cu(609)\u001b[0m: \u001b[01;35mwarning\u001b[0m #177-D: variable \u001b[01m\"last_j\"\u001b[0m was declared but never referenced\n",
            "          detected during instantiation of \u001b[01m\"void large_msm(S *, A *, unsigned int, P *, __nv_bool, __nv_bool, unsigned int, cudaStream_t) [with S=BN254::scalar_t, P=BN254::projective_t, A=BN254::affine_t]\"\u001b[0m \u001b[32m\n",
            "/content/icicle/icicle/curves/bn254/msm.cu(19): here\u001b[0m\n",
            "\n",
            "\u001b[01m\u001b[0m\u001b[01m/content/icicle/icicle/curves/bn254/../../appUtils/msm/msm.cu(591)\u001b[0m: \u001b[01;35mwarning\u001b[0m #550-D: variable \u001b[01m\"odd_source_c\"\u001b[0m was set but never used\n",
            "          detected during instantiation of \u001b[01m\"void large_msm(S *, A *, unsigned int, P *, __nv_bool, __nv_bool, unsigned int, cudaStream_t) [with S=BN254::scalar_t, P=BN254::projective_t, A=BN254::affine_t]\"\u001b[0m \u001b[32m\n",
            "/content/icicle/icicle/curves/bn254/msm.cu(19): here\u001b[0m\n",
            "\n",
            "\u001b[01m\u001b[0m\u001b[01m/content/icicle/icicle/curves/bn254/../../appUtils/msm/msm.cu(100)\u001b[0m: \u001b[01;35mwarning\u001b[0m #177-D: variable \u001b[01m\"sign_mask\"\u001b[0m was declared but never referenced\n",
            "          detected during:\n",
            "            instantiation of \u001b[01m\"void bucket_method_msm(unsigned int, unsigned int, S *, A *, unsigned int, P *, __nv_bool, __nv_bool, unsigned int, cudaStream_t) [with S=BN254::scalar_t, P=BN254::projective_t, A=BN254::affine_t]\"\u001b[0m \u001b[32m\n",
            "(951): here\u001b[0m\n",
            "            instantiation of \u001b[01m\"void large_msm(S *, A *, unsigned int, P *, __nv_bool, __nv_bool, unsigned int, cudaStream_t) [with S=BN254::scalar_t, P=BN254::projective_t, A=BN254::affine_t]\"\u001b[0m \u001b[32m\n",
            "/content/icicle/icicle/curves/bn254/msm.cu(19): here\u001b[0m\n",
            "\n",
            "\u001b[01m\u001b[0m\u001b[01m/content/icicle/icicle/curves/bn254/../../appUtils/msm/msm.cu(104)\u001b[0m: \u001b[01;35mwarning\u001b[0m #177-D: variable \u001b[01m\"bucket_index2\"\u001b[0m was declared but never referenced\n",
            "          detected during:\n",
            "            instantiation of \u001b[01m\"void bucket_method_msm(unsigned int, unsigned int, S *, A *, unsigned int, P *, __nv_bool, __nv_bool, unsigned int, cudaStream_t) [with S=BN254::scalar_t, P=BN254::projective_t, A=BN254::affine_t]\"\u001b[0m \u001b[32m\n",
            "(951): here\u001b[0m\n",
            "            instantiation of \u001b[01m\"void large_msm(S *, A *, unsigned int, P *, __nv_bool, __nv_bool, unsigned int, cudaStream_t) [with S=BN254::scalar_t, P=BN254::projective_t, A=BN254::affine_t]\"\u001b[0m \u001b[32m\n",
            "/content/icicle/icicle/curves/bn254/msm.cu(19): here\u001b[0m\n",
            "\n",
            "\u001b[01m\u001b[0m\u001b[01m/content/icicle/icicle/curves/bn254/../../appUtils/msm/msm.cu(107)\u001b[0m: \u001b[01;35mwarning\u001b[0m #177-D: variable \u001b[01m\"borrow\"\u001b[0m was declared but never referenced\n",
            "          detected during:\n",
            "            instantiation of \u001b[01m\"void bucket_method_msm(unsigned int, unsigned int, S *, A *, unsigned int, P *, __nv_bool, __nv_bool, unsigned int, cudaStream_t) [with S=BN254::scalar_t, P=BN254::projective_t, A=BN254::affine_t]\"\u001b[0m \u001b[32m\n",
            "(951): here\u001b[0m\n",
            "            instantiation of \u001b[01m\"void large_msm(S *, A *, unsigned int, P *, __nv_bool, __nv_bool, unsigned int, cudaStream_t) [with S=BN254::scalar_t, P=BN254::projective_t, A=BN254::affine_t]\"\u001b[0m \u001b[32m\n",
            "/content/icicle/icicle/curves/bn254/msm.cu(19): here\u001b[0m\n",
            "\n",
            "\u001b[01m\u001b[0m\u001b[01m/content/icicle/icicle/curves/bn254/../../appUtils/msm/msm.cu(181)\u001b[0m: \u001b[01;35mwarning\u001b[0m #177-D: variable \u001b[01m\"sign_mask\"\u001b[0m was declared but never referenced\n",
            "          detected during:\n",
            "            instantiation of \u001b[01m\"void bucket_method_msm(unsigned int, unsigned int, S *, A *, unsigned int, P *, __nv_bool, __nv_bool, unsigned int, cudaStream_t) [with S=BN254::scalar_t, P=BN254::projective_t, A=BN254::affine_t]\"\u001b[0m \u001b[32m\n",
            "(951): here\u001b[0m\n",
            "            instantiation of \u001b[01m\"void large_msm(S *, A *, unsigned int, P *, __nv_bool, __nv_bool, unsigned int, cudaStream_t) [with S=BN254::scalar_t, P=BN254::projective_t, A=BN254::affine_t]\"\u001b[0m \u001b[32m\n",
            "/content/icicle/icicle/curves/bn254/msm.cu(19): here\u001b[0m\n",
            "\n",
            "\u001b[01m\u001b[0m\u001b[01m/content/icicle/icicle/curves/bn254/../../appUtils/msm/msm.cu(136)\u001b[0m: \u001b[01;35mwarning\u001b[0m #20050-D: inline qualifier ignored for \"\u001b[01m__global__\u001b[0m\" function\n",
            "\n",
            "\u001b[01m\u001b[0m\u001b[01m/content/icicle/icicle/curves/bn254/../../appUtils/msm/msm.cu(152)\u001b[0m: \u001b[01;35mwarning\u001b[0m #20050-D: inline qualifier ignored for \"\u001b[01m__global__\u001b[0m\" function\n",
            "\n",
            "[ 20%] \u001b[32mBuilding CUDA object CMakeFiles/icicle.dir/curves/bn254/projective.cu.o\u001b[0m\n",
            "[ 26%] \u001b[32mBuilding CUDA object CMakeFiles/icicle.dir/curves/bn254/ve_mod_mult.cu.o\u001b[0m\n",
            "[ 33%] \u001b[32mBuilding CUDA object CMakeFiles/icicle.dir/curves/bls12_377/lde.cu.o\u001b[0m\n",
            "\u001b[01m\u001b[0m\u001b[01m/content/icicle/icicle/curves/bls12_377/../../appUtils/ntt/ntt.cuh(379)\u001b[0m: \u001b[01;35mwarning\u001b[0m #177-D: variable \u001b[01m\"NUM_BLOCKS\"\u001b[0m was declared but never referenced\n",
            "\n",
            "[ 40%] \u001b[32mBuilding CUDA object CMakeFiles/icicle.dir/curves/bls12_377/msm.cu.o\u001b[0m\n",
            "\u001b[01m\u001b[0m\u001b[01m/content/icicle/icicle/curves/bls12_377/../../appUtils/msm/msm.cu(136)\u001b[0m: \u001b[01;35mwarning\u001b[0m #20050-D: inline qualifier ignored for \"\u001b[01m__global__\u001b[0m\" function\n",
            "\n",
            "\u001b[01m\u001b[0m\u001b[01m/content/icicle/icicle/curves/bls12_377/../../appUtils/msm/msm.cu(152)\u001b[0m: \u001b[01;35mwarning\u001b[0m #20050-D: inline qualifier ignored for \"\u001b[01m__global__\u001b[0m\" function\n",
            "\n",
            "\u001b[01m\u001b[0m\u001b[01m/content/icicle/icicle/curves/bls12_377/../../appUtils/msm/msm.cu(609)\u001b[0m: \u001b[01;35mwarning\u001b[0m #177-D: variable \u001b[01m\"last_j\"\u001b[0m was declared but never referenced\n",
            "          detected during instantiation of \u001b[01m\"void large_msm(S *, A *, unsigned int, P *, __nv_bool, __nv_bool, unsigned int, cudaStream_t) [with S=BLS12_377::scalar_t, P=BLS12_377::projective_t, A=BLS12_377::affine_t]\"\u001b[0m \u001b[32m\n",
            "/content/icicle/icicle/curves/bls12_377/msm.cu(19): here\u001b[0m\n",
            "\n",
            "\u001b[01m\u001b[0m\u001b[01m/content/icicle/icicle/curves/bls12_377/../../appUtils/msm/msm.cu(591)\u001b[0m: \u001b[01;35mwarning\u001b[0m #550-D: variable \u001b[01m\"odd_source_c\"\u001b[0m was set but never used\n",
            "          detected during instantiation of \u001b[01m\"void large_msm(S *, A *, unsigned int, P *, __nv_bool, __nv_bool, unsigned int, cudaStream_t) [with S=BLS12_377::scalar_t, P=BLS12_377::projective_t, A=BLS12_377::affine_t]\"\u001b[0m \u001b[32m\n",
            "/content/icicle/icicle/curves/bls12_377/msm.cu(19): here\u001b[0m\n",
            "\n",
            "\u001b[01m\u001b[0m\u001b[01m/content/icicle/icicle/curves/bls12_377/../../appUtils/msm/msm.cu(100)\u001b[0m: \u001b[01;35mwarning\u001b[0m #177-D: variable \u001b[01m\"sign_mask\"\u001b[0m was declared but never referenced\n",
            "          detected during:\n",
            "            instantiation of \u001b[01m\"void bucket_method_msm(unsigned int, unsigned int, S *, A *, unsigned int, P *, __nv_bool, __nv_bool, unsigned int, cudaStream_t) [with S=BLS12_377::scalar_t, P=BLS12_377::projective_t, A=BLS12_377::affine_t]\"\u001b[0m \u001b[32m\n",
            "(951): here\u001b[0m\n",
            "            instantiation of \u001b[01m\"void large_msm(S *, A *, unsigned int, P *, __nv_bool, __nv_bool, unsigned int, cudaStream_t) [with S=BLS12_377::scalar_t, P=BLS12_377::projective_t, A=BLS12_377::affine_t]\"\u001b[0m \u001b[32m\n",
            "/content/icicle/icicle/curves/bls12_377/msm.cu(19): here\u001b[0m\n",
            "\n",
            "\u001b[01m\u001b[0m\u001b[01m/content/icicle/icicle/curves/bls12_377/../../appUtils/msm/msm.cu(104)\u001b[0m: \u001b[01;35mwarning\u001b[0m #177-D: variable \u001b[01m\"bucket_index2\"\u001b[0m was declared but never referenced\n",
            "          detected during:\n",
            "            instantiation of \u001b[01m\"void bucket_method_msm(unsigned int, unsigned int, S *, A *, unsigned int, P *, __nv_bool, __nv_bool, unsigned int, cudaStream_t) [with S=BLS12_377::scalar_t, P=BLS12_377::projective_t, A=BLS12_377::affine_t]\"\u001b[0m \u001b[32m\n",
            "(951): here\u001b[0m\n",
            "            instantiation of \u001b[01m\"void large_msm(S *, A *, unsigned int, P *, __nv_bool, __nv_bool, unsigned int, cudaStream_t) [with S=BLS12_377::scalar_t, P=BLS12_377::projective_t, A=BLS12_377::affine_t]\"\u001b[0m \u001b[32m\n",
            "/content/icicle/icicle/curves/bls12_377/msm.cu(19): here\u001b[0m\n",
            "\n",
            "\u001b[01m\u001b[0m\u001b[01m/content/icicle/icicle/curves/bls12_377/../../appUtils/msm/msm.cu(107)\u001b[0m: \u001b[01;35mwarning\u001b[0m #177-D: variable \u001b[01m\"borrow\"\u001b[0m was declared but never referenced\n",
            "          detected during:\n",
            "            instantiation of \u001b[01m\"void bucket_method_msm(unsigned int, unsigned int, S *, A *, unsigned int, P *, __nv_bool, __nv_bool, unsigned int, cudaStream_t) [with S=BLS12_377::scalar_t, P=BLS12_377::projective_t, A=BLS12_377::affine_t]\"\u001b[0m \u001b[32m\n",
            "(951): here\u001b[0m\n",
            "            instantiation of \u001b[01m\"void large_msm(S *, A *, unsigned int, P *, __nv_bool, __nv_bool, unsigned int, cudaStream_t) [with S=BLS12_377::scalar_t, P=BLS12_377::projective_t, A=BLS12_377::affine_t]\"\u001b[0m \u001b[32m\n",
            "/content/icicle/icicle/curves/bls12_377/msm.cu(19): here\u001b[0m\n",
            "\n",
            "\u001b[01m\u001b[0m\u001b[01m/content/icicle/icicle/curves/bls12_377/../../appUtils/msm/msm.cu(181)\u001b[0m: \u001b[01;35mwarning\u001b[0m #177-D: variable \u001b[01m\"sign_mask\"\u001b[0m was declared but never referenced\n",
            "          detected during:\n",
            "            instantiation of \u001b[01m\"void bucket_method_msm(unsigned int, unsigned int, S *, A *, unsigned int, P *, __nv_bool, __nv_bool, unsigned int, cudaStream_t) [with S=BLS12_377::scalar_t, P=BLS12_377::projective_t, A=BLS12_377::affine_t]\"\u001b[0m \u001b[32m\n",
            "(951): here\u001b[0m\n",
            "            instantiation of \u001b[01m\"void large_msm(S *, A *, unsigned int, P *, __nv_bool, __nv_bool, unsigned int, cudaStream_t) [with S=BLS12_377::scalar_t, P=BLS12_377::projective_t, A=BLS12_377::affine_t]\"\u001b[0m \u001b[32m\n",
            "/content/icicle/icicle/curves/bls12_377/msm.cu(19): here\u001b[0m\n",
            "\n",
            "\u001b[01m\u001b[0m\u001b[01m/content/icicle/icicle/curves/bls12_377/../../appUtils/msm/msm.cu(136)\u001b[0m: \u001b[01;35mwarning\u001b[0m #20050-D: inline qualifier ignored for \"\u001b[01m__global__\u001b[0m\" function\n",
            "\n",
            "\u001b[01m\u001b[0m\u001b[01m/content/icicle/icicle/curves/bls12_377/../../appUtils/msm/msm.cu(152)\u001b[0m: \u001b[01;35mwarning\u001b[0m #20050-D: inline qualifier ignored for \"\u001b[01m__global__\u001b[0m\" function\n",
            "\n",
            "[ 46%] \u001b[32mBuilding CUDA object CMakeFiles/icicle.dir/curves/bls12_377/projective.cu.o\u001b[0m\n",
            "[ 53%] \u001b[32mBuilding CUDA object CMakeFiles/icicle.dir/curves/bls12_377/ve_mod_mult.cu.o\u001b[0m\n",
            "[ 60%] \u001b[32mBuilding CUDA object CMakeFiles/icicle.dir/curves/bls12_381/lde.cu.o\u001b[0m\n",
            "\u001b[01m\u001b[0m\u001b[01m/content/icicle/icicle/curves/bls12_381/../../appUtils/ntt/ntt.cuh(379)\u001b[0m: \u001b[01;35mwarning\u001b[0m #177-D: variable \u001b[01m\"NUM_BLOCKS\"\u001b[0m was declared but never referenced\n",
            "\n",
            "[ 66%] \u001b[32mBuilding CUDA object CMakeFiles/icicle.dir/curves/bls12_381/msm.cu.o\u001b[0m\n",
            "\u001b[01m\u001b[0m\u001b[01m/content/icicle/icicle/curves/bls12_381/../../appUtils/msm/msm.cu(136)\u001b[0m: \u001b[01;35mwarning\u001b[0m #20050-D: inline qualifier ignored for \"\u001b[01m__global__\u001b[0m\" function\n",
            "\n",
            "\u001b[01m\u001b[0m\u001b[01m/content/icicle/icicle/curves/bls12_381/../../appUtils/msm/msm.cu(152)\u001b[0m: \u001b[01;35mwarning\u001b[0m #20050-D: inline qualifier ignored for \"\u001b[01m__global__\u001b[0m\" function\n",
            "\n",
            "\u001b[01m\u001b[0m\u001b[01m/content/icicle/icicle/curves/bls12_381/../../appUtils/msm/msm.cu(609)\u001b[0m: \u001b[01;35mwarning\u001b[0m #177-D: variable \u001b[01m\"last_j\"\u001b[0m was declared but never referenced\n",
            "          detected during instantiation of \u001b[01m\"void large_msm(S *, A *, unsigned int, P *, __nv_bool, __nv_bool, unsigned int, cudaStream_t) [with S=BLS12_381::scalar_t, P=BLS12_381::projective_t, A=BLS12_381::affine_t]\"\u001b[0m \u001b[32m\n",
            "/content/icicle/icicle/curves/bls12_381/msm.cu(19): here\u001b[0m\n",
            "\n",
            "\u001b[01m\u001b[0m\u001b[01m/content/icicle/icicle/curves/bls12_381/../../appUtils/msm/msm.cu(591)\u001b[0m: \u001b[01;35mwarning\u001b[0m #550-D: variable \u001b[01m\"odd_source_c\"\u001b[0m was set but never used\n",
            "          detected during instantiation of \u001b[01m\"void large_msm(S *, A *, unsigned int, P *, __nv_bool, __nv_bool, unsigned int, cudaStream_t) [with S=BLS12_381::scalar_t, P=BLS12_381::projective_t, A=BLS12_381::affine_t]\"\u001b[0m \u001b[32m\n",
            "/content/icicle/icicle/curves/bls12_381/msm.cu(19): here\u001b[0m\n",
            "\n",
            "\u001b[01m\u001b[0m\u001b[01m/content/icicle/icicle/curves/bls12_381/../../appUtils/msm/msm.cu(100)\u001b[0m: \u001b[01;35mwarning\u001b[0m #177-D: variable \u001b[01m\"sign_mask\"\u001b[0m was declared but never referenced\n",
            "          detected during:\n",
            "            instantiation of \u001b[01m\"void bucket_method_msm(unsigned int, unsigned int, S *, A *, unsigned int, P *, __nv_bool, __nv_bool, unsigned int, cudaStream_t) [with S=BLS12_381::scalar_t, P=BLS12_381::projective_t, A=BLS12_381::affine_t]\"\u001b[0m \u001b[32m\n",
            "(951): here\u001b[0m\n",
            "            instantiation of \u001b[01m\"void large_msm(S *, A *, unsigned int, P *, __nv_bool, __nv_bool, unsigned int, cudaStream_t) [with S=BLS12_381::scalar_t, P=BLS12_381::projective_t, A=BLS12_381::affine_t]\"\u001b[0m \u001b[32m\n",
            "/content/icicle/icicle/curves/bls12_381/msm.cu(19): here\u001b[0m\n",
            "\n",
            "\u001b[01m\u001b[0m\u001b[01m/content/icicle/icicle/curves/bls12_381/../../appUtils/msm/msm.cu(104)\u001b[0m: \u001b[01;35mwarning\u001b[0m #177-D: variable \u001b[01m\"bucket_index2\"\u001b[0m was declared but never referenced\n",
            "          detected during:\n",
            "            instantiation of \u001b[01m\"void bucket_method_msm(unsigned int, unsigned int, S *, A *, unsigned int, P *, __nv_bool, __nv_bool, unsigned int, cudaStream_t) [with S=BLS12_381::scalar_t, P=BLS12_381::projective_t, A=BLS12_381::affine_t]\"\u001b[0m \u001b[32m\n",
            "(951): here\u001b[0m\n",
            "            instantiation of \u001b[01m\"void large_msm(S *, A *, unsigned int, P *, __nv_bool, __nv_bool, unsigned int, cudaStream_t) [with S=BLS12_381::scalar_t, P=BLS12_381::projective_t, A=BLS12_381::affine_t]\"\u001b[0m \u001b[32m\n",
            "/content/icicle/icicle/curves/bls12_381/msm.cu(19): here\u001b[0m\n",
            "\n",
            "\u001b[01m\u001b[0m\u001b[01m/content/icicle/icicle/curves/bls12_381/../../appUtils/msm/msm.cu(107)\u001b[0m: \u001b[01;35mwarning\u001b[0m #177-D: variable \u001b[01m\"borrow\"\u001b[0m was declared but never referenced\n",
            "          detected during:\n",
            "            instantiation of \u001b[01m\"void bucket_method_msm(unsigned int, unsigned int, S *, A *, unsigned int, P *, __nv_bool, __nv_bool, unsigned int, cudaStream_t) [with S=BLS12_381::scalar_t, P=BLS12_381::projective_t, A=BLS12_381::affine_t]\"\u001b[0m \u001b[32m\n",
            "(951): here\u001b[0m\n",
            "            instantiation of \u001b[01m\"void large_msm(S *, A *, unsigned int, P *, __nv_bool, __nv_bool, unsigned int, cudaStream_t) [with S=BLS12_381::scalar_t, P=BLS12_381::projective_t, A=BLS12_381::affine_t]\"\u001b[0m \u001b[32m\n",
            "/content/icicle/icicle/curves/bls12_381/msm.cu(19): here\u001b[0m\n",
            "\n",
            "\u001b[01m\u001b[0m\u001b[01m/content/icicle/icicle/curves/bls12_381/../../appUtils/msm/msm.cu(181)\u001b[0m: \u001b[01;35mwarning\u001b[0m #177-D: variable \u001b[01m\"sign_mask\"\u001b[0m was declared but never referenced\n",
            "          detected during:\n",
            "            instantiation of \u001b[01m\"void bucket_method_msm(unsigned int, unsigned int, S *, A *, unsigned int, P *, __nv_bool, __nv_bool, unsigned int, cudaStream_t) [with S=BLS12_381::scalar_t, P=BLS12_381::projective_t, A=BLS12_381::affine_t]\"\u001b[0m \u001b[32m\n",
            "(951): here\u001b[0m\n",
            "            instantiation of \u001b[01m\"void large_msm(S *, A *, unsigned int, P *, __nv_bool, __nv_bool, unsigned int, cudaStream_t) [with S=BLS12_381::scalar_t, P=BLS12_381::projective_t, A=BLS12_381::affine_t]\"\u001b[0m \u001b[32m\n",
            "/content/icicle/icicle/curves/bls12_381/msm.cu(19): here\u001b[0m\n",
            "\n",
            "\u001b[01m\u001b[0m\u001b[01m/content/icicle/icicle/curves/bls12_381/../../appUtils/msm/msm.cu(136)\u001b[0m: \u001b[01;35mwarning\u001b[0m #20050-D: inline qualifier ignored for \"\u001b[01m__global__\u001b[0m\" function\n",
            "\n",
            "\u001b[01m\u001b[0m\u001b[01m/content/icicle/icicle/curves/bls12_381/../../appUtils/msm/msm.cu(152)\u001b[0m: \u001b[01;35mwarning\u001b[0m #20050-D: inline qualifier ignored for \"\u001b[01m__global__\u001b[0m\" function\n",
            "\n",
            "[ 73%] \u001b[32mBuilding CUDA object CMakeFiles/icicle.dir/curves/bls12_381/projective.cu.o\u001b[0m\n",
            "[ 80%] \u001b[32mBuilding CUDA object CMakeFiles/icicle.dir/curves/bls12_381/ve_mod_mult.cu.o\u001b[0m\n",
            "[ 86%] \u001b[32mBuilding CUDA object CMakeFiles/icicle.dir/curves/bls12_381/poseidon.cu.o\u001b[0m\n",
            "[ 93%] \u001b[32m\u001b[1mLinking CUDA device code CMakeFiles/icicle.dir/cmake_device_link.o\u001b[0m\n",
            "[100%] \u001b[32m\u001b[1mLinking CUDA static library libingo_icicle.a\u001b[0m\n",
            "[100%] Built target icicle\n",
            "\n",
            "real\t48m32.160s\n",
            "user\t48m2.454s\n",
            "sys\t0m13.648s\n"
          ]
        }
      ]
    },
    {
      "cell_type": "code",
      "source": [
        "!time cmake --build build"
      ],
      "metadata": {
        "colab": {
          "base_uri": "https://localhost:8080/"
        },
        "id": "_Zd-ktos9-ux",
        "outputId": "aec3f84c-1723-4a5a-82c4-ad0811190f07"
      },
      "execution_count": 2,
      "outputs": [
        {
          "output_type": "stream",
          "name": "stdout",
          "text": [
            "Error: /content/build is not a directory\n",
            "\n",
            "real\t0m0.046s\n",
            "user\t0m0.036s\n",
            "sys\t0m0.009s\n"
          ]
        }
      ]
    },
    {
      "cell_type": "code",
      "source": [
        "!cmake -S . -B build"
      ],
      "metadata": {
        "colab": {
          "base_uri": "https://localhost:8080/"
        },
        "id": "3Iu0wfjhHkq2",
        "outputId": "5fefe4b6-f309-43fe-8237-4511e9bab845"
      },
      "execution_count": 3,
      "outputs": [
        {
          "output_type": "stream",
          "name": "stdout",
          "text": [
            "\u001b[0mCMake Error: The source directory \"/content\" does not appear to contain CMakeLists.txt.\n",
            "Specify --help for usage, or press the help button on the CMake GUI.\u001b[0m\n"
          ]
        }
      ]
    },
    {
      "cell_type": "code",
      "source": [
        "%cd build"
      ],
      "metadata": {
        "colab": {
          "base_uri": "https://localhost:8080/"
        },
        "id": "QK3qeag0Hpv8",
        "outputId": "2f112bd8-a5d3-4349-b69a-95e83d476873"
      },
      "execution_count": 9,
      "outputs": [
        {
          "output_type": "stream",
          "name": "stdout",
          "text": [
            "/content/icicle/icicle/build\n"
          ]
        }
      ]
    },
    {
      "cell_type": "code",
      "source": [
        "!time ctest"
      ],
      "metadata": {
        "colab": {
          "base_uri": "https://localhost:8080/"
        },
        "id": "2i-S6xHlTcXA",
        "outputId": "24431663-52da-489a-9223-df763584c47d"
      },
      "execution_count": 10,
      "outputs": [
        {
          "output_type": "stream",
          "name": "stdout",
          "text": [
            "*********************************\n",
            "No test configuration file found!\n",
            "*********************************\n",
            "Usage\n",
            "\n",
            "  ctest [options]\n",
            "\n",
            "\n",
            "real\t0m0.149s\n",
            "user\t0m0.038s\n",
            "sys\t0m0.012s\n"
          ]
        }
      ]
    },
    {
      "cell_type": "code",
      "source": [
        "%cd /content/"
      ],
      "metadata": {
        "colab": {
          "base_uri": "https://localhost:8080/"
        },
        "id": "1ioeH8tZTiA1",
        "outputId": "60d31a8a-a83c-40ae-a6a0-81d428097cc1"
      },
      "execution_count": 11,
      "outputs": [
        {
          "output_type": "stream",
          "name": "stdout",
          "text": [
            "/content\n"
          ]
        }
      ]
    },
    {
      "cell_type": "code",
      "source": [
        "%pwd"
      ],
      "metadata": {
        "colab": {
          "base_uri": "https://localhost:8080/",
          "height": 36
        },
        "id": "NfSgfakdTuNV",
        "outputId": "c38546ac-b02c-459c-857b-a3793cbe6752"
      },
      "execution_count": 12,
      "outputs": [
        {
          "output_type": "execute_result",
          "data": {
            "text/plain": [
              "'/content'"
            ],
            "application/vnd.google.colaboratory.intrinsic+json": {
              "type": "string"
            }
          },
          "metadata": {},
          "execution_count": 12
        }
      ]
    },
    {
      "cell_type": "code",
      "source": [
        "!pip install git+https://github.com/andreinechaev/nvcc4jupyter.git"
      ],
      "metadata": {
        "colab": {
          "base_uri": "https://localhost:8080/"
        },
        "id": "R74Gqf8WTzTc",
        "outputId": "2154e8cf-bf32-49de-d5ae-8d73c6cb3783"
      },
      "execution_count": 13,
      "outputs": [
        {
          "output_type": "stream",
          "name": "stdout",
          "text": [
            "Collecting git+https://github.com/andreinechaev/nvcc4jupyter.git\n",
            "  Cloning https://github.com/andreinechaev/nvcc4jupyter.git to /tmp/pip-req-build-guk5n4wx\n",
            "  Running command git clone --filter=blob:none --quiet https://github.com/andreinechaev/nvcc4jupyter.git /tmp/pip-req-build-guk5n4wx\n",
            "  Resolved https://github.com/andreinechaev/nvcc4jupyter.git to commit 0a71d56e5dce3ff1f0dd2c47c29367629262f527\n",
            "  Preparing metadata (setup.py) ... \u001b[?25l\u001b[?25hdone\n",
            "Building wheels for collected packages: NVCCPlugin\n",
            "  Building wheel for NVCCPlugin (setup.py) ... \u001b[?25l\u001b[?25hdone\n",
            "  Created wheel for NVCCPlugin: filename=NVCCPlugin-0.0.2-py3-none-any.whl size=4293 sha256=e964cd8e8434efdaf6b810c16c292dff5500b521436338043d77798695deb56c\n",
            "  Stored in directory: /tmp/pip-ephem-wheel-cache-0blg0s1z/wheels/a8/b9/18/23f8ef71ceb0f63297dd1903aedd067e6243a68ea756d6feea\n",
            "Successfully built NVCCPlugin\n",
            "Installing collected packages: NVCCPlugin\n",
            "Successfully installed NVCCPlugin-0.0.2\n"
          ]
        }
      ]
    },
    {
      "cell_type": "code",
      "source": [
        "%load_ext nvcc_plugin"
      ],
      "metadata": {
        "colab": {
          "base_uri": "https://localhost:8080/"
        },
        "id": "GsNap3-tT5de",
        "outputId": "4ef4816a-d2e9-44f0-cb4b-965beae27ecc"
      },
      "execution_count": 14,
      "outputs": [
        {
          "output_type": "stream",
          "name": "stdout",
          "text": [
            "created output directory at /content/src\n",
            "Out bin /content/result.out\n"
          ]
        }
      ]
    },
    {
      "cell_type": "code",
      "source": [
        "%%cu\n",
        "#include\n",
        "#include"
      ],
      "metadata": {
        "colab": {
          "base_uri": "https://localhost:8080/"
        },
        "id": "_LUOpnjnUR_G",
        "outputId": "84bc4def-8c2e-4a51-808a-5fb4fabb321a"
      },
      "execution_count": 15,
      "outputs": [
        {
          "output_type": "stream",
          "name": "stdout",
          "text": [
            "/tmp/tmp72fhfdzv/067570ec-00fb-43da-9962-1e95f7713987.cu:1:10: error: #include expects \"FILENAME\" or <FILENAME>\n",
            "    1 | #include\n",
            "      |          ^\n",
            "/tmp/tmp72fhfdzv/067570ec-00fb-43da-9962-1e95f7713987.cu:2:10: error: #include expects \"FILENAME\" or <FILENAME>\n",
            "    2 | #include\n",
            "      |          ^\n",
            "\n"
          ]
        }
      ]
    },
    {
      "cell_type": "code",
      "source": [
        "%%cu"
      ],
      "metadata": {
        "colab": {
          "base_uri": "https://localhost:8080/"
        },
        "id": "Zft20yVFUtkf",
        "outputId": "398bbcf6-ae7e-4304-c56d-70fb8fb0f683"
      },
      "execution_count": 16,
      "outputs": [
        {
          "output_type": "stream",
          "name": "stderr",
          "text": [
            "UsageError: %%cu is a cell magic, but the cell body is empty.\n"
          ]
        }
      ]
    },
    {
      "cell_type": "code",
      "source": [
        "%%cuda --name test.cu"
      ],
      "metadata": {
        "colab": {
          "base_uri": "https://localhost:8080/",
          "height": 36
        },
        "id": "icYHyCIxV3If",
        "outputId": "14c68dd7-fb25-41b1-9945-0c049bcf4e22"
      },
      "execution_count": 19,
      "outputs": [
        {
          "output_type": "execute_result",
          "data": {
            "text/plain": [
              "'File written in /content/src/test.cu'"
            ],
            "application/vnd.google.colaboratory.intrinsic+json": {
              "type": "string"
            }
          },
          "metadata": {},
          "execution_count": 19
        }
      ]
    },
    {
      "cell_type": "code",
      "source": [
        "%cd src/"
      ],
      "metadata": {
        "colab": {
          "base_uri": "https://localhost:8080/"
        },
        "id": "EpDO9WKuWRk-",
        "outputId": "035b9db3-b27c-469a-a845-b9e04c38a5fb"
      },
      "execution_count": 21,
      "outputs": [
        {
          "output_type": "stream",
          "name": "stdout",
          "text": [
            "/content/src\n"
          ]
        }
      ]
    },
    {
      "cell_type": "code",
      "source": [
        "%ls"
      ],
      "metadata": {
        "colab": {
          "base_uri": "https://localhost:8080/"
        },
        "id": "BzjdAoLUWbyq",
        "outputId": "54a39009-8d2b-431d-ffba-dcab2570672c"
      },
      "execution_count": 22,
      "outputs": [
        {
          "output_type": "stream",
          "name": "stdout",
          "text": [
            "test.cu\n"
          ]
        }
      ]
    },
    {
      "cell_type": "code",
      "source": [
        "!nvcc test.cu -o test"
      ],
      "metadata": {
        "colab": {
          "base_uri": "https://localhost:8080/"
        },
        "id": "rP4W3iTjWgcO",
        "outputId": "1c30a122-d12d-44e4-97ee-41f21244193e"
      },
      "execution_count": 23,
      "outputs": [
        {
          "output_type": "stream",
          "name": "stdout",
          "text": [
            "/usr/bin/ld: /usr/lib/gcc/x86_64-linux-gnu/11/../../../x86_64-linux-gnu/Scrt1.o: in function `_start':\n",
            "(.text+0x1b): undefined reference to `main'\n",
            "collect2: error: ld returned 1 exit status\n"
          ]
        }
      ]
    },
    {
      "cell_type": "code",
      "source": [
        "!./test"
      ],
      "metadata": {
        "colab": {
          "base_uri": "https://localhost:8080/"
        },
        "id": "Xdl9bprLWlpp",
        "outputId": "904f38e7-ccc2-4982-9638-51b1af94a76b"
      },
      "execution_count": 24,
      "outputs": [
        {
          "output_type": "stream",
          "name": "stdout",
          "text": [
            "/bin/bash: line 1: ./test: No such file or directory\n"
          ]
        }
      ]
    },
    {
      "cell_type": "code",
      "source": [
        "!nvprof ./test"
      ],
      "metadata": {
        "colab": {
          "base_uri": "https://localhost:8080/"
        },
        "id": "1s1NcbNyWuSh",
        "outputId": "eb612c87-2fe7-4f0e-9706-7816f195cca9"
      },
      "execution_count": 25,
      "outputs": [
        {
          "output_type": "stream",
          "name": "stdout",
          "text": [
            "======== Error: application not found.\n"
          ]
        }
      ]
    },
    {
      "cell_type": "code",
      "source": [
        "%load_ext nvcc_plugin"
      ],
      "metadata": {
        "colab": {
          "base_uri": "https://localhost:8080/",
          "height": 407
        },
        "id": "wANBt42pW8z8",
        "outputId": "b2063849-e7f3-4de5-f087-7247323d70c6"
      },
      "execution_count": 4,
      "outputs": [
        {
          "output_type": "error",
          "ename": "ModuleNotFoundError",
          "evalue": "ignored",
          "traceback": [
            "\u001b[0;31m---------------------------------------------------------------------------\u001b[0m",
            "\u001b[0;31mModuleNotFoundError\u001b[0m                       Traceback (most recent call last)",
            "\u001b[0;32m<ipython-input-4-5df49c27db81>\u001b[0m in \u001b[0;36m<cell line: 1>\u001b[0;34m()\u001b[0m\n\u001b[0;32m----> 1\u001b[0;31m \u001b[0mget_ipython\u001b[0m\u001b[0;34m(\u001b[0m\u001b[0;34m)\u001b[0m\u001b[0;34m.\u001b[0m\u001b[0mrun_line_magic\u001b[0m\u001b[0;34m(\u001b[0m\u001b[0;34m'load_ext'\u001b[0m\u001b[0;34m,\u001b[0m \u001b[0;34m'nvcc_plugin'\u001b[0m\u001b[0;34m)\u001b[0m\u001b[0;34m\u001b[0m\u001b[0;34m\u001b[0m\u001b[0m\n\u001b[0m",
            "\u001b[0;32m/usr/local/lib/python3.10/dist-packages/IPython/core/interactiveshell.py\u001b[0m in \u001b[0;36mrun_line_magic\u001b[0;34m(self, magic_name, line, _stack_depth)\u001b[0m\n\u001b[1;32m   2416\u001b[0m                 \u001b[0mkwargs\u001b[0m\u001b[0;34m[\u001b[0m\u001b[0;34m'local_ns'\u001b[0m\u001b[0;34m]\u001b[0m \u001b[0;34m=\u001b[0m \u001b[0mself\u001b[0m\u001b[0;34m.\u001b[0m\u001b[0mget_local_scope\u001b[0m\u001b[0;34m(\u001b[0m\u001b[0mstack_depth\u001b[0m\u001b[0;34m)\u001b[0m\u001b[0;34m\u001b[0m\u001b[0;34m\u001b[0m\u001b[0m\n\u001b[1;32m   2417\u001b[0m             \u001b[0;32mwith\u001b[0m \u001b[0mself\u001b[0m\u001b[0;34m.\u001b[0m\u001b[0mbuiltin_trap\u001b[0m\u001b[0;34m:\u001b[0m\u001b[0;34m\u001b[0m\u001b[0;34m\u001b[0m\u001b[0m\n\u001b[0;32m-> 2418\u001b[0;31m                 \u001b[0mresult\u001b[0m \u001b[0;34m=\u001b[0m \u001b[0mfn\u001b[0m\u001b[0;34m(\u001b[0m\u001b[0;34m*\u001b[0m\u001b[0margs\u001b[0m\u001b[0;34m,\u001b[0m \u001b[0;34m**\u001b[0m\u001b[0mkwargs\u001b[0m\u001b[0;34m)\u001b[0m\u001b[0;34m\u001b[0m\u001b[0;34m\u001b[0m\u001b[0m\n\u001b[0m\u001b[1;32m   2419\u001b[0m             \u001b[0;32mreturn\u001b[0m \u001b[0mresult\u001b[0m\u001b[0;34m\u001b[0m\u001b[0;34m\u001b[0m\u001b[0m\n\u001b[1;32m   2420\u001b[0m \u001b[0;34m\u001b[0m\u001b[0m\n",
            "\u001b[0;32m<decorator-gen-57>\u001b[0m in \u001b[0;36mload_ext\u001b[0;34m(self, module_str)\u001b[0m\n",
            "\u001b[0;32m/usr/local/lib/python3.10/dist-packages/IPython/core/magic.py\u001b[0m in \u001b[0;36m<lambda>\u001b[0;34m(f, *a, **k)\u001b[0m\n\u001b[1;32m    185\u001b[0m     \u001b[0;31m# but it's overkill for just that one bit of state.\u001b[0m\u001b[0;34m\u001b[0m\u001b[0;34m\u001b[0m\u001b[0m\n\u001b[1;32m    186\u001b[0m     \u001b[0;32mdef\u001b[0m \u001b[0mmagic_deco\u001b[0m\u001b[0;34m(\u001b[0m\u001b[0marg\u001b[0m\u001b[0;34m)\u001b[0m\u001b[0;34m:\u001b[0m\u001b[0;34m\u001b[0m\u001b[0;34m\u001b[0m\u001b[0m\n\u001b[0;32m--> 187\u001b[0;31m         \u001b[0mcall\u001b[0m \u001b[0;34m=\u001b[0m \u001b[0;32mlambda\u001b[0m \u001b[0mf\u001b[0m\u001b[0;34m,\u001b[0m \u001b[0;34m*\u001b[0m\u001b[0ma\u001b[0m\u001b[0;34m,\u001b[0m \u001b[0;34m**\u001b[0m\u001b[0mk\u001b[0m\u001b[0;34m:\u001b[0m \u001b[0mf\u001b[0m\u001b[0;34m(\u001b[0m\u001b[0;34m*\u001b[0m\u001b[0ma\u001b[0m\u001b[0;34m,\u001b[0m \u001b[0;34m**\u001b[0m\u001b[0mk\u001b[0m\u001b[0;34m)\u001b[0m\u001b[0;34m\u001b[0m\u001b[0;34m\u001b[0m\u001b[0m\n\u001b[0m\u001b[1;32m    188\u001b[0m \u001b[0;34m\u001b[0m\u001b[0m\n\u001b[1;32m    189\u001b[0m         \u001b[0;32mif\u001b[0m \u001b[0mcallable\u001b[0m\u001b[0;34m(\u001b[0m\u001b[0marg\u001b[0m\u001b[0;34m)\u001b[0m\u001b[0;34m:\u001b[0m\u001b[0;34m\u001b[0m\u001b[0;34m\u001b[0m\u001b[0m\n",
            "\u001b[0;32m/usr/local/lib/python3.10/dist-packages/IPython/core/magics/extension.py\u001b[0m in \u001b[0;36mload_ext\u001b[0;34m(self, module_str)\u001b[0m\n\u001b[1;32m     31\u001b[0m         \u001b[0;32mif\u001b[0m \u001b[0;32mnot\u001b[0m \u001b[0mmodule_str\u001b[0m\u001b[0;34m:\u001b[0m\u001b[0;34m\u001b[0m\u001b[0;34m\u001b[0m\u001b[0m\n\u001b[1;32m     32\u001b[0m             \u001b[0;32mraise\u001b[0m \u001b[0mUsageError\u001b[0m\u001b[0;34m(\u001b[0m\u001b[0;34m'Missing module name.'\u001b[0m\u001b[0;34m)\u001b[0m\u001b[0;34m\u001b[0m\u001b[0;34m\u001b[0m\u001b[0m\n\u001b[0;32m---> 33\u001b[0;31m         \u001b[0mres\u001b[0m \u001b[0;34m=\u001b[0m \u001b[0mself\u001b[0m\u001b[0;34m.\u001b[0m\u001b[0mshell\u001b[0m\u001b[0;34m.\u001b[0m\u001b[0mextension_manager\u001b[0m\u001b[0;34m.\u001b[0m\u001b[0mload_extension\u001b[0m\u001b[0;34m(\u001b[0m\u001b[0mmodule_str\u001b[0m\u001b[0;34m)\u001b[0m\u001b[0;34m\u001b[0m\u001b[0;34m\u001b[0m\u001b[0m\n\u001b[0m\u001b[1;32m     34\u001b[0m \u001b[0;34m\u001b[0m\u001b[0m\n\u001b[1;32m     35\u001b[0m         \u001b[0;32mif\u001b[0m \u001b[0mres\u001b[0m \u001b[0;34m==\u001b[0m \u001b[0;34m'already loaded'\u001b[0m\u001b[0;34m:\u001b[0m\u001b[0;34m\u001b[0m\u001b[0;34m\u001b[0m\u001b[0m\n",
            "\u001b[0;32m/usr/local/lib/python3.10/dist-packages/IPython/core/extensions.py\u001b[0m in \u001b[0;36mload_extension\u001b[0;34m(self, module_str)\u001b[0m\n\u001b[1;32m     78\u001b[0m             \u001b[0;32mif\u001b[0m \u001b[0mmodule_str\u001b[0m \u001b[0;32mnot\u001b[0m \u001b[0;32min\u001b[0m \u001b[0msys\u001b[0m\u001b[0;34m.\u001b[0m\u001b[0mmodules\u001b[0m\u001b[0;34m:\u001b[0m\u001b[0;34m\u001b[0m\u001b[0;34m\u001b[0m\u001b[0m\n\u001b[1;32m     79\u001b[0m                 \u001b[0;32mwith\u001b[0m \u001b[0mprepended_to_syspath\u001b[0m\u001b[0;34m(\u001b[0m\u001b[0mself\u001b[0m\u001b[0;34m.\u001b[0m\u001b[0mipython_extension_dir\u001b[0m\u001b[0;34m)\u001b[0m\u001b[0;34m:\u001b[0m\u001b[0;34m\u001b[0m\u001b[0;34m\u001b[0m\u001b[0m\n\u001b[0;32m---> 80\u001b[0;31m                     \u001b[0mmod\u001b[0m \u001b[0;34m=\u001b[0m \u001b[0mimport_module\u001b[0m\u001b[0;34m(\u001b[0m\u001b[0mmodule_str\u001b[0m\u001b[0;34m)\u001b[0m\u001b[0;34m\u001b[0m\u001b[0;34m\u001b[0m\u001b[0m\n\u001b[0m\u001b[1;32m     81\u001b[0m                     \u001b[0;32mif\u001b[0m \u001b[0mmod\u001b[0m\u001b[0;34m.\u001b[0m\u001b[0m__file__\u001b[0m\u001b[0;34m.\u001b[0m\u001b[0mstartswith\u001b[0m\u001b[0;34m(\u001b[0m\u001b[0mself\u001b[0m\u001b[0;34m.\u001b[0m\u001b[0mipython_extension_dir\u001b[0m\u001b[0;34m)\u001b[0m\u001b[0;34m:\u001b[0m\u001b[0;34m\u001b[0m\u001b[0;34m\u001b[0m\u001b[0m\n\u001b[1;32m     82\u001b[0m                         print((\"Loading extensions from {dir} is deprecated. \"\n",
            "\u001b[0;32m/usr/lib/python3.10/importlib/__init__.py\u001b[0m in \u001b[0;36mimport_module\u001b[0;34m(name, package)\u001b[0m\n\u001b[1;32m    124\u001b[0m                 \u001b[0;32mbreak\u001b[0m\u001b[0;34m\u001b[0m\u001b[0;34m\u001b[0m\u001b[0m\n\u001b[1;32m    125\u001b[0m             \u001b[0mlevel\u001b[0m \u001b[0;34m+=\u001b[0m \u001b[0;36m1\u001b[0m\u001b[0;34m\u001b[0m\u001b[0;34m\u001b[0m\u001b[0m\n\u001b[0;32m--> 126\u001b[0;31m     \u001b[0;32mreturn\u001b[0m \u001b[0m_bootstrap\u001b[0m\u001b[0;34m.\u001b[0m\u001b[0m_gcd_import\u001b[0m\u001b[0;34m(\u001b[0m\u001b[0mname\u001b[0m\u001b[0;34m[\u001b[0m\u001b[0mlevel\u001b[0m\u001b[0;34m:\u001b[0m\u001b[0;34m]\u001b[0m\u001b[0;34m,\u001b[0m \u001b[0mpackage\u001b[0m\u001b[0;34m,\u001b[0m \u001b[0mlevel\u001b[0m\u001b[0;34m)\u001b[0m\u001b[0;34m\u001b[0m\u001b[0;34m\u001b[0m\u001b[0m\n\u001b[0m\u001b[1;32m    127\u001b[0m \u001b[0;34m\u001b[0m\u001b[0m\n\u001b[1;32m    128\u001b[0m \u001b[0;34m\u001b[0m\u001b[0m\n",
            "\u001b[0;32m/usr/lib/python3.10/importlib/_bootstrap.py\u001b[0m in \u001b[0;36m_gcd_import\u001b[0;34m(name, package, level)\u001b[0m\n",
            "\u001b[0;32m/usr/lib/python3.10/importlib/_bootstrap.py\u001b[0m in \u001b[0;36m_find_and_load\u001b[0;34m(name, import_)\u001b[0m\n",
            "\u001b[0;32m/usr/lib/python3.10/importlib/_bootstrap.py\u001b[0m in \u001b[0;36m_find_and_load_unlocked\u001b[0;34m(name, import_)\u001b[0m\n",
            "\u001b[0;31mModuleNotFoundError\u001b[0m: No module named 'nvcc_plugin'",
            "",
            "\u001b[0;31m---------------------------------------------------------------------------\u001b[0;32m\nNOTE: If your import is failing due to a missing package, you can\nmanually install dependencies using either !pip or !apt.\n\nTo view examples of installing some common dependencies, click the\n\"Open Examples\" button below.\n\u001b[0;31m---------------------------------------------------------------------------\u001b[0m\n"
          ],
          "errorDetails": {
            "actions": [
              {
                "action": "open_url",
                "actionText": "Open Examples",
                "url": "/notebooks/snippets/importing_libraries.ipynb"
              }
            ]
          }
        }
      ]
    },
    {
      "cell_type": "code",
      "source": [
        "%%cu\n",
        "#include"
      ],
      "metadata": {
        "colab": {
          "base_uri": "https://localhost:8080/"
        },
        "id": "LGPV40k2XEQF",
        "outputId": "d1ad820d-de4b-4771-b372-b2ebb2f033b0"
      },
      "execution_count": 27,
      "outputs": [
        {
          "output_type": "stream",
          "name": "stdout",
          "text": [
            "/tmp/tmpl5857nxw/4dd1f4f4-1609-4cb7-947a-5051682314ee.cu:1:10: error: #include expects \"FILENAME\" or <FILENAME>\n",
            "    1 | #include\n",
            "      |          ^\n",
            "\n"
          ]
        }
      ]
    }
  ],
  "metadata": {
    "colab": {
      "provenance": [],
      "gpuType": "T4",
      "authorship_tag": "ABX9TyOhx8USDRI2o83eWDg0v4rz",
      "include_colab_link": true
    },
    "kernelspec": {
      "display_name": "Python 3",
      "name": "python3"
    },
    "language_info": {
      "name": "python"
    },
    "accelerator": "GPU"
  },
  "nbformat": 4,
  "nbformat_minor": 0
}