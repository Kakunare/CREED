{
  "nbformat": 4,
  "nbformat_minor": 0,
  "metadata": {
    "colab": {
      "provenance": [],
      "gpuType": "T4",
      "authorship_tag": "ABX9TyM/oyJB6tzQ+nhO7FXDhUNa",
      "include_colab_link": true
    },
    "kernelspec": {
      "name": "python3",
      "display_name": "Python 3"
    },
    "language_info": {
      "name": "python"
    },
    "accelerator": "GPU"
  },
  "cells": [
    {
      "cell_type": "markdown",
      "metadata": {
        "id": "view-in-github",
        "colab_type": "text"
      },
      "source": [
        "<a href=\"https://colab.research.google.com/github/Kakunare/CREED/blob/main/Untitled1.ipynb\" target=\"_parent\"><img src=\"https://colab.research.google.com/assets/colab-badge.svg\" alt=\"Open In Colab\"/></a>"
      ]
    },
    {
      "cell_type": "code",
      "execution_count": null,
      "metadata": {
        "id": "1EEAlV6DwcAB"
      },
      "outputs": [],
      "source": []
    },
    {
      "cell_type": "markdown",
      "source": [],
      "metadata": {
        "id": "Ag2Gdk42wuUp"
      }
    },
    {
      "cell_type": "code",
      "source": [
        "from google.colab import drive\n",
        "drive.mount('/content/drive')"
      ],
      "metadata": {
        "colab": {
          "base_uri": "https://localhost:8080/"
        },
        "id": "U4_5TiOMwu2E",
        "outputId": "bf43b837-c0ed-4cac-9f0f-6c6c75045bfa"
      },
      "execution_count": 3,
      "outputs": [
        {
          "output_type": "stream",
          "name": "stdout",
          "text": [
            "Mounted at /content/drive\n"
          ]
        }
      ]
    },
    {
      "cell_type": "code",
      "source": [
        "%cd /content/drive/MyDrive/workspace/\n",
        "%pwd"
      ],
      "metadata": {
        "colab": {
          "base_uri": "https://localhost:8080/",
          "height": 70
        },
        "id": "Spmuf7yqyugR",
        "outputId": "00041c5a-2356-4a86-c148-8e7fb0d45269"
      },
      "execution_count": null,
      "outputs": [
        {
          "output_type": "stream",
          "name": "stdout",
          "text": [
            "[Errno 2] No such file or directory: '/content/drive/MyDrive/workspace/'\n",
            "/content\n"
          ]
        },
        {
          "output_type": "execute_result",
          "data": {
            "text/plain": [
              "'/content'"
            ],
            "application/vnd.google.colaboratory.intrinsic+json": {
              "type": "string"
            }
          },
          "metadata": {},
          "execution_count": 2
        }
      ]
    },
    {
      "cell_type": "code",
      "source": [
        "%cd /content/drive/MyDrive/workspace/\n",
        "%pwd"
      ],
      "metadata": {
        "colab": {
          "base_uri": "https://localhost:8080/",
          "height": 53
        },
        "id": "Rx7RxeT9zW6Q",
        "outputId": "a7977fdf-a147-4ec9-fa68-903353b93478"
      },
      "execution_count": null,
      "outputs": [
        {
          "output_type": "stream",
          "name": "stdout",
          "text": [
            "/content/drive/MyDrive/workspace\n"
          ]
        },
        {
          "output_type": "execute_result",
          "data": {
            "text/plain": [
              "'/content/drive/MyDrive/workspace'"
            ],
            "application/vnd.google.colaboratory.intrinsic+json": {
              "type": "string"
            }
          },
          "metadata": {},
          "execution_count": 4
        }
      ]
    },
    {
      "cell_type": "code",
      "source": [
        "!apt install rustc cargo"
      ],
      "metadata": {
        "colab": {
          "base_uri": "https://localhost:8080/"
        },
        "id": "A9ELy0J90bAF",
        "outputId": "015d95a8-721c-445f-8c37-676f3f3e35ac"
      },
      "execution_count": null,
      "outputs": [
        {
          "output_type": "stream",
          "name": "stdout",
          "text": [
            "Reading package lists... Done\n",
            "Building dependency tree... Done\n",
            "Reading state information... Done\n",
            "The following additional packages will be installed:\n",
            "  libstd-rust-1.70 libstd-rust-dev\n",
            "Suggested packages:\n",
            "  cargo-doc llvm-16 lld-16 clang-16\n",
            "The following NEW packages will be installed:\n",
            "  cargo libstd-rust-1.70 libstd-rust-dev rustc\n",
            "0 upgraded, 4 newly installed, 0 to remove and 15 not upgraded.\n",
            "Need to get 97.6 MB of archives.\n",
            "After this operation, 395 MB of additional disk space will be used.\n",
            "Get:1 http://archive.ubuntu.com/ubuntu jammy-updates/main amd64 libstd-rust-1.70 amd64 1.70.0+dfsg0ubuntu1~bpo2-0ubuntu0.22.04.2 [46.6 MB]\n",
            "Get:2 http://archive.ubuntu.com/ubuntu jammy-updates/main amd64 libstd-rust-dev amd64 1.70.0+dfsg0ubuntu1~bpo2-0ubuntu0.22.04.2 [42.3 MB]\n",
            "Get:3 http://archive.ubuntu.com/ubuntu jammy-updates/main amd64 rustc amd64 1.70.0+dfsg0ubuntu1~bpo2-0ubuntu0.22.04.2 [3,266 kB]\n",
            "Get:4 http://archive.ubuntu.com/ubuntu jammy-updates/universe amd64 cargo amd64 1.70.0+dfsg0ubuntu1~bpo2-0ubuntu0.22.04.2 [5,387 kB]\n",
            "Fetched 97.6 MB in 3s (28.9 MB/s)\n",
            "Selecting previously unselected package libstd-rust-1.70:amd64.\n",
            "(Reading database ... 120899 files and directories currently installed.)\n",
            "Preparing to unpack .../libstd-rust-1.70_1.70.0+dfsg0ubuntu1~bpo2-0ubuntu0.22.04.2_amd64.deb ...\n",
            "Unpacking libstd-rust-1.70:amd64 (1.70.0+dfsg0ubuntu1~bpo2-0ubuntu0.22.04.2) ...\n",
            "Selecting previously unselected package libstd-rust-dev:amd64.\n",
            "Preparing to unpack .../libstd-rust-dev_1.70.0+dfsg0ubuntu1~bpo2-0ubuntu0.22.04.2_amd64.deb ...\n",
            "Unpacking libstd-rust-dev:amd64 (1.70.0+dfsg0ubuntu1~bpo2-0ubuntu0.22.04.2) ...\n",
            "Selecting previously unselected package rustc.\n",
            "Preparing to unpack .../rustc_1.70.0+dfsg0ubuntu1~bpo2-0ubuntu0.22.04.2_amd64.deb ...\n",
            "Unpacking rustc (1.70.0+dfsg0ubuntu1~bpo2-0ubuntu0.22.04.2) ...\n",
            "Selecting previously unselected package cargo.\n",
            "Preparing to unpack .../cargo_1.70.0+dfsg0ubuntu1~bpo2-0ubuntu0.22.04.2_amd64.deb ...\n",
            "Unpacking cargo (1.70.0+dfsg0ubuntu1~bpo2-0ubuntu0.22.04.2) ...\n",
            "Setting up libstd-rust-1.70:amd64 (1.70.0+dfsg0ubuntu1~bpo2-0ubuntu0.22.04.2) ...\n",
            "Setting up libstd-rust-dev:amd64 (1.70.0+dfsg0ubuntu1~bpo2-0ubuntu0.22.04.2) ...\n",
            "Setting up rustc (1.70.0+dfsg0ubuntu1~bpo2-0ubuntu0.22.04.2) ...\n",
            "Setting up cargo (1.70.0+dfsg0ubuntu1~bpo2-0ubuntu0.22.04.2) ...\n",
            "Processing triggers for man-db (2.10.2-1) ...\n"
          ]
        }
      ]
    },
    {
      "cell_type": "code",
      "source": [
        "!nvidia-smi"
      ],
      "metadata": {
        "colab": {
          "base_uri": "https://localhost:8080/"
        },
        "id": "t6HByX9Q4OEM",
        "outputId": "7fd5d018-0ff3-4814-e57b-bb34f254f64d"
      },
      "execution_count": null,
      "outputs": [
        {
          "output_type": "stream",
          "name": "stdout",
          "text": [
            "/bin/bash: line 1: nvidia-smi: command not found\n"
          ]
        }
      ]
    },
    {
      "cell_type": "code",
      "source": [
        "!git clone https://github.com/ingonyama-zk/icicle.git"
      ],
      "metadata": {
        "colab": {
          "base_uri": "https://localhost:8080/"
        },
        "id": "yx8M-pY14lRC",
        "outputId": "5a464216-735a-46fa-864f-d8ab662276ec"
      },
      "execution_count": null,
      "outputs": [
        {
          "output_type": "stream",
          "name": "stdout",
          "text": [
            "Cloning into 'icicle'...\n",
            "remote: Enumerating objects: 5326, done.\u001b[K\n",
            "remote: Counting objects: 100% (2086/2086), done.\u001b[K\n",
            "remote: Compressing objects: 100% (843/843), done.\u001b[K\n",
            "remote: Total 5326 (delta 1551), reused 1415 (delta 1199), pack-reused 3240\u001b[K\n",
            "Receiving objects: 100% (5326/5326), 42.44 MiB | 10.86 MiB/s, done.\n",
            "Resolving deltas: 100% (3239/3239), done.\n",
            "Updating files: 100% (216/216), done.\n"
          ]
        }
      ]
    },
    {
      "cell_type": "code",
      "source": [
        "!ls -la"
      ],
      "metadata": {
        "colab": {
          "base_uri": "https://localhost:8080/"
        },
        "id": "qLUvEGq84wla",
        "outputId": "f30cfc6c-783b-44ee-f565-285a741ae7a8"
      },
      "execution_count": 6,
      "outputs": [
        {
          "output_type": "stream",
          "name": "stdout",
          "text": [
            "total 20\n",
            "drwxr-xr-x 1 root root 4096 Dec 10 18:14 .\n",
            "drwxr-xr-x 1 root root 4096 Dec 10 18:07 ..\n",
            "drwxr-xr-x 4 root root 4096 Dec  4 14:23 .config\n",
            "drwx------ 5 root root 4096 Dec 10 18:14 drive\n",
            "drwxr-xr-x 1 root root 4096 Dec  4 14:27 sample_data\n"
          ]
        }
      ]
    },
    {
      "cell_type": "code",
      "source": [
        "%cd icicle/icicle"
      ],
      "metadata": {
        "colab": {
          "base_uri": "https://localhost:8080/"
        },
        "id": "4eN1xt0c5Gzn",
        "outputId": "681afecd-d2b9-4205-c195-fd930bf7825d"
      },
      "execution_count": 7,
      "outputs": [
        {
          "output_type": "stream",
          "name": "stdout",
          "text": [
            "[Errno 2] No such file or directory: 'icicle/icicle'\n",
            "/content\n"
          ]
        }
      ]
    },
    {
      "cell_type": "code",
      "source": [
        "!mkdir -p build"
      ],
      "metadata": {
        "id": "joAOjX9_5Lnx"
      },
      "execution_count": null,
      "outputs": []
    },
    {
      "cell_type": "code",
      "source": [
        "!cmake -S . -B build"
      ],
      "metadata": {
        "colab": {
          "base_uri": "https://localhost:8080/"
        },
        "id": "_Gd8tnhb5ULh",
        "outputId": "977f1b90-8929-4d64-9e43-e983b540d518"
      },
      "execution_count": 5,
      "outputs": [
        {
          "output_type": "stream",
          "name": "stdout",
          "text": [
            "\u001b[0mCMake Error: The source directory \"/content\" does not appear to contain CMakeLists.txt.\n",
            "Specify --help for usage, or press the help button on the CMake GUI.\u001b[0m\n"
          ]
        }
      ]
    },
    {
      "cell_type": "code",
      "source": [
        "!time cmake --build build"
      ],
      "metadata": {
        "id": "lRFKHlHY6QzD",
        "colab": {
          "base_uri": "https://localhost:8080/"
        },
        "outputId": "fbb4eff6-2ba0-4b59-ee6a-0423eecd9da6"
      },
      "execution_count": 4,
      "outputs": [
        {
          "output_type": "stream",
          "name": "stdout",
          "text": [
            "Error: /content/build is not a directory\n",
            "\n",
            "real\t0m0.078s\n",
            "user\t0m0.054s\n",
            "sys\t0m0.012s\n"
          ]
        }
      ]
    },
    {
      "cell_type": "code",
      "source": [
        "!cmake -S . -B build"
      ],
      "metadata": {
        "colab": {
          "base_uri": "https://localhost:8080/"
        },
        "id": "ufSGAti865w-",
        "outputId": "fead293c-76db-4920-d98d-4dea4d85bbb9"
      },
      "execution_count": 2,
      "outputs": [
        {
          "output_type": "stream",
          "name": "stdout",
          "text": [
            "\u001b[0mCMake Error: The source directory \"/content\" does not appear to contain CMakeLists.txt.\n",
            "Specify --help for usage, or press the help button on the CMake GUI.\u001b[0m\n"
          ]
        }
      ]
    },
    {
      "cell_type": "code",
      "source": [],
      "metadata": {
        "id": "wLz4_1Dp7uxC"
      },
      "execution_count": null,
      "outputs": []
    }
  ]
}